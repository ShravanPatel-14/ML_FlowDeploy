{
 "cells": [
  {
   "cell_type": "code",
   "execution_count": 1,
   "id": "fa291f8f-126b-4cea-b1d4-ce1591b90d61",
   "metadata": {},
   "outputs": [],
   "source": [
    "import os\n",
    "os.environ['GIT_PYTHON_REFRESH']='quiet'\n",
    "os.environ['MLFLOW_TRACKING_URI']=\"file:///Users/sanja/Mlflow\""
   ]
  },
  {
   "cell_type": "code",
   "execution_count": 2,
   "id": "465f0131-a98b-41b2-9dd8-2d346bc2d5ad",
   "metadata": {},
   "outputs": [
    {
     "name": "stdout",
     "output_type": "stream",
     "text": [
      "                             run_id       experiment_id    status  \\\n",
      "0  b40abf9fd1a64bf790d33bad290bac7b  637431649982127903  FINISHED   \n",
      "1  24116d5bdd064839aaa7e4810c82212d  788708172953409324   RUNNING   \n",
      "\n",
      "                                        artifact_uri  \\\n",
      "0  file:C:/Users/sanja/Mlflow/637431649982127903/...   \n",
      "1  file:C:/Users/sanja/Mlflow/788708172953409324/...   \n",
      "\n",
      "                        start_time                         end_time  \\\n",
      "0 2025-02-03 03:59:47.320000+00:00 2025-02-03 04:02:29.840000+00:00   \n",
      "1 2025-02-01 18:06:45.719000+00:00                              NaT   \n",
      "\n",
      "   metrics.gbm_training_score  metrics.rf_training_score  \\\n",
      "0                    0.377142                   0.106395   \n",
      "1                         NaN                        NaN   \n",
      "\n",
      "  params.gbm_minimum_samples_split params.gbm_learning_rate  \\\n",
      "0                                5                     0.01   \n",
      "1                                5                     0.01   \n",
      "\n",
      "  params.gbm_n_estimators params.gbm_max_depth params.n_estimators  \\\n",
      "0                    3000                    6                5000   \n",
      "1                    3000                    6                None   \n",
      "\n",
      "  params.rf_max_depth params.rf_n_estimators tags.mlflow.runName  \\\n",
      "0                   6                   None        fun-flea-100   \n",
      "1                   6                   5000  skillful-steed-423   \n",
      "\n",
      "                             tags.mlflow.source.name  \\\n",
      "0  C:\\Users\\sanja\\anaconda3\\Lib\\site-packages\\ipy...   \n",
      "1  C:\\Users\\sanja\\anaconda3\\Lib\\site-packages\\ipy...   \n",
      "\n",
      "                       tags.mlflow.log-model.history tags.mlflow.source.type  \\\n",
      "0  [{\"run_id\": \"b40abf9fd1a64bf790d33bad290bac7b\"...                   LOCAL   \n",
      "1                                               None                   LOCAL   \n",
      "\n",
      "  tags.mlflow.user  \n",
      "0            sanja  \n",
      "1            sanja  \n"
     ]
    }
   ],
   "source": [
    "import mlflow\n",
    "\n",
    "all_runs = mlflow.search_runs(search_all_experiments=True)\n",
    "print(all_runs)"
   ]
  },
  {
   "cell_type": "code",
   "execution_count": null,
   "id": "3e226b8a-60a5-41e6-9651-ec47d1678194",
   "metadata": {},
   "outputs": [],
   "source": [
    "!mlflow models serve -p 8004 -m runs:/b40abf9fd1a64bf790d33bad290bac7b/random-forest-model  --no-conda"
   ]
  }
 ],
 "metadata": {
  "kernelspec": {
   "display_name": "Python 3 (ipykernel)",
   "language": "python",
   "name": "python3"
  },
  "language_info": {
   "codemirror_mode": {
    "name": "ipython",
    "version": 3
   },
   "file_extension": ".py",
   "mimetype": "text/x-python",
   "name": "python",
   "nbconvert_exporter": "python",
   "pygments_lexer": "ipython3",
   "version": "3.12.7"
  }
 },
 "nbformat": 4,
 "nbformat_minor": 5
}
