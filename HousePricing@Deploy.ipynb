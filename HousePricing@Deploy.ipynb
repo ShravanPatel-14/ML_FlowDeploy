{
 "cells": [
  {
   "cell_type": "code",
   "execution_count": 1,
   "id": "f72cc3aa-3c8d-401a-8a0b-041ddab17fe0",
   "metadata": {},
   "outputs": [],
   "source": [
    "import os\n",
    "os.environ['GIT_PYTHON_REFRESH']='quiet'\n",
    "os.environ['MLFLOW_TRACKING_URI']=\"file:///Users/sanja/Mlflow\""
   ]
  },
  {
   "cell_type": "code",
   "execution_count": 2,
   "id": "9aef6eeb-4390-4aaf-a7ff-bde4f9c4e82c",
   "metadata": {},
   "outputs": [
    {
     "name": "stdout",
     "output_type": "stream",
     "text": [
      "                             run_id       experiment_id    status  \\\n",
      "0  fc8c318ce06948f0a6cb71a83d9a217c  446420594188236251  FINISHED   \n",
      "1  b40abf9fd1a64bf790d33bad290bac7b  637431649982127903  FINISHED   \n",
      "2  24116d5bdd064839aaa7e4810c82212d  788708172953409324   RUNNING   \n",
      "\n",
      "                                        artifact_uri  \\\n",
      "0  file:C:/Users/sanja/Mlflow/446420594188236251/...   \n",
      "1  file:C:/Users/sanja/Mlflow/637431649982127903/...   \n",
      "2  file:C:/Users/sanja/Mlflow/788708172953409324/...   \n",
      "\n",
      "                        start_time                         end_time  \\\n",
      "0 2025-02-05 03:52:16.233000+00:00 2025-02-05 03:55:44.011000+00:00   \n",
      "1 2025-02-03 03:59:47.320000+00:00 2025-02-03 04:02:29.840000+00:00   \n",
      "2 2025-02-01 18:06:45.719000+00:00                              NaT   \n",
      "\n",
      "   metrics.gbm_training_score  metrics.rf_training_score  \\\n",
      "0                    0.787587                   0.722893   \n",
      "1                    0.377142                   0.106395   \n",
      "2                         NaN                        NaN   \n",
      "\n",
      "  params.gbm_learning_rate params.rf_max_depth params.gbm_max_depth  \\\n",
      "0                     0.01                   6                    6   \n",
      "1                     0.01                   6                    6   \n",
      "2                     0.01                   6                    6   \n",
      "\n",
      "  params.gbm_n_estimators params.gbm_minimum_samples_split  \\\n",
      "0                    3000                                5   \n",
      "1                    3000                                5   \n",
      "2                    3000                                5   \n",
      "\n",
      "  params.n_estimators params.rf_n_estimators tags.mlflow.user  \\\n",
      "0                5000                   None            sanja   \n",
      "1                5000                   None            sanja   \n",
      "2                None                   5000            sanja   \n",
      "\n",
      "  tags.mlflow.source.type                            tags.mlflow.source.name  \\\n",
      "0                   LOCAL  C:\\Users\\sanja\\anaconda3\\Lib\\site-packages\\ipy...   \n",
      "1                   LOCAL  C:\\Users\\sanja\\anaconda3\\Lib\\site-packages\\ipy...   \n",
      "2                   LOCAL  C:\\Users\\sanja\\anaconda3\\Lib\\site-packages\\ipy...   \n",
      "\n",
      "                       tags.mlflow.log-model.history tags.mlflow.runName  \n",
      "0  [{\"run_id\": \"fc8c318ce06948f0a6cb71a83d9a217c\"...      brawny-cod-965  \n",
      "1  [{\"run_id\": \"b40abf9fd1a64bf790d33bad290bac7b\"...        fun-flea-100  \n",
      "2                                               None  skillful-steed-423  \n"
     ]
    }
   ],
   "source": [
    "import mlflow\n",
    "\n",
    "all_runs = mlflow.search_runs(search_all_experiments=True)\n",
    "print(all_runs)"
   ]
  },
  {
   "cell_type": "code",
   "execution_count": null,
   "id": "2e064307-175b-41f8-a89f-ee7fd5579529",
   "metadata": {},
   "outputs": [],
   "source": [
    "!mlflow models serve -p 8004 -m runs:/fc8c318ce06948f0a6cb71a83d9a217c/random-forest-model  --no-conda"
   ]
  },
  {
   "cell_type": "code",
   "execution_count": null,
   "id": "d4e36846-e583-451f-839d-91414ccd813b",
   "metadata": {},
   "outputs": [],
   "source": []
  }
 ],
 "metadata": {
  "kernelspec": {
   "display_name": "Python 3 (ipykernel)",
   "language": "python",
   "name": "python3"
  },
  "language_info": {
   "codemirror_mode": {
    "name": "ipython",
    "version": 3
   },
   "file_extension": ".py",
   "mimetype": "text/x-python",
   "name": "python",
   "nbconvert_exporter": "python",
   "pygments_lexer": "ipython3",
   "version": "3.12.7"
  }
 },
 "nbformat": 4,
 "nbformat_minor": 5
}
